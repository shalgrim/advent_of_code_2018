{
 "cells": [
  {
   "cell_type": "code",
   "execution_count": 7,
   "id": "4eb9e427",
   "metadata": {},
   "outputs": [],
   "source": [
    "from day23_1 import parse_input23\n",
    "import itertools"
   ]
  },
  {
   "cell_type": "code",
   "execution_count": 2,
   "id": "cfa93bac",
   "metadata": {},
   "outputs": [],
   "source": [
    "nanobots = parse_input23('data/input23.txt')"
   ]
  },
  {
   "cell_type": "code",
   "execution_count": 3,
   "id": "e8674b35",
   "metadata": {},
   "outputs": [
    {
     "data": {
      "text/plain": [
       "1000"
      ]
     },
     "execution_count": 3,
     "metadata": {},
     "output_type": "execute_result"
    }
   ],
   "source": [
    "len(nanobots)"
   ]
  },
  {
   "cell_type": "code",
   "execution_count": 4,
   "id": "3b0a6b30",
   "metadata": {},
   "outputs": [
    {
     "name": "stdout",
     "output_type": "stream",
     "text": [
      "(86508574, 12573428, 20533848); 83193725\n"
     ]
    }
   ],
   "source": [
    "print(nanobots[0])"
   ]
  },
  {
   "cell_type": "markdown",
   "id": "b789ff98",
   "metadata": {},
   "source": [
    "Let's see if we can get all combinations of nanbots that overlap with each other"
   ]
  },
  {
   "cell_type": "code",
   "execution_count": 9,
   "id": "7453d76b",
   "metadata": {},
   "outputs": [
    {
     "name": "stdout",
     "output_type": "stream",
     "text": [
      "414802\n"
     ]
    }
   ],
   "source": [
    "overlaps = [combo for combo in itertools.combinations(nanobots, 2) if combo[0].intersect(combo[1])]\n",
    "print(len(overlaps))"
   ]
  },
  {
   "cell_type": "code",
   "execution_count": 13,
   "id": "4601be6f",
   "metadata": {},
   "outputs": [
    {
     "name": "stdout",
     "output_type": "stream",
     "text": [
      "(86508574, 12573428, 20533848); 83193725\n",
      "(-430120, -13024475, 8301242); 89241187\n"
     ]
    }
   ],
   "source": [
    "for i in overlaps[0]:\n",
    "    print(i)"
   ]
  },
  {
   "cell_type": "markdown",
   "id": "b9bf2905",
   "metadata": {},
   "source": [
    "So the next step is how to figure out if n nanbots overlap where n > 2 ... and it's probably best to just start with n=3 and to that end, we can go from overlaps and just combo that with each nanobot, like\n",
    "\n",
    "```py\n",
    "overlaps3 = []\n",
    "for overlap in overlap:\n",
    "    for nanobot in nanobots:\n",
    "        if nanbot in overlap:\n",
    "            continue\n",
    "        if three_nanobots_overlap(overlap[0], overlap[1], nanobot):\n",
    "            overlaps3.append((overlap[0], overlap[1], nanobot))\n",
    "```\n",
    "           "
   ]
  },
  {
   "cell_type": "code",
   "execution_count": null,
   "id": "182fbb8a",
   "metadata": {},
   "outputs": [],
   "source": []
  },
  {
   "cell_type": "code",
   "execution_count": null,
   "id": "11d38ab9",
   "metadata": {},
   "outputs": [],
   "source": []
  }
 ],
 "metadata": {
  "kernelspec": {
   "display_name": "advent-of-code-2018",
   "language": "python",
   "name": "advent-of-code-2018"
  },
  "language_info": {
   "codemirror_mode": {
    "name": "ipython",
    "version": 3
   },
   "file_extension": ".py",
   "mimetype": "text/x-python",
   "name": "python",
   "nbconvert_exporter": "python",
   "pygments_lexer": "ipython3",
   "version": "3.8.2"
  }
 },
 "nbformat": 4,
 "nbformat_minor": 5
}
